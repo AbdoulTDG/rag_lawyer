{
 "cells": [
  {
   "cell_type": "code",
   "execution_count": 3,
   "id": "5fc8aff1",
   "metadata": {},
   "outputs": [],
   "source": [
    "from pymongo import MongoClient\n",
    "from langchain.schema import Document\n",
    "from langchain.text_splitter import RecursiveCharacterTextSplitter\n",
    "# from langchain_community.embeddings import OpenAIEmbeddings\n",
    "from langchain_community.embeddings import HuggingFaceEmbeddings\n",
    "from langchain_community.vectorstores import FAISS\n",
    "from langchain_community.chat_models import ChatOpenAI\n",
    "from langchain.chains import RetrievalQA\n",
    "from langchain_community.llms import Ollama\n",
    "import os\n",
    "import tqdm\n"
   ]
  },
  {
   "cell_type": "code",
   "execution_count": 4,
   "id": "a044957a",
   "metadata": {},
   "outputs": [],
   "source": [
    "def build_qa_chain():\n",
    "\n",
    "    # Récupération des infos pour la connexion à la bdd\n",
    "    mongo_uri = os.getenv(\"MONGO_URI\")\n",
    "    db_name = os.getenv(\"DB_NAME\")\n",
    "    collection_name = os.getenv(\"COLLECTION_NAME\")\n",
    "    text_field = os.getenv(\"TEXT_FIELD\", \"texte\")\n",
    "\n",
    "    # Connexion à MongoDB\n",
    "    client = MongoClient(mongo_uri)\n",
    "    collection = client[db_name][collection_name]\n",
    "    texts = [doc[text_field] for doc in collection.find({}, {text_field: 1}) if text_field in doc]\n",
    "\n",
    "    # Séparation des textes\n",
    "    splitter = RecursiveCharacterTextSplitter(chunk_size=500, chunk_overlap=50)\n",
    "    docs = [Document(page_content=chunk) for text in texts for chunk in splitter.split_text(text)]\n",
    "    \n",
    "    # Vectorisation des textes\n",
    "    embeddings = HuggingFaceEmbeddings(model_name=\"sentence-transformers/all-MiniLM-L6-v2\")\n",
    "    vectorstore = FAISS.from_documents(docs, embeddings)\n",
    "    \n",
    "    retriever = vectorstore.as_retriever()\n",
    "    # llm = ChatOpenAI(temperature=0)\n",
    "    llm_ollama = Ollama(model=\"mistral\")\n",
    "    \n",
    "    return RetrievalQA.from_chain_type(llm=llm_ollama, retriever=retriever)"
   ]
  },
  {
   "cell_type": "code",
   "execution_count": 5,
   "id": "4490eb91",
   "metadata": {},
   "outputs": [
    {
     "name": "stderr",
     "output_type": "stream",
     "text": [
      "/tmp/ipykernel_40491/116804841.py:19: LangChainDeprecationWarning: The class `HuggingFaceEmbeddings` was deprecated in LangChain 0.2.2 and will be removed in 1.0. An updated version of the class exists in the :class:`~langchain-huggingface package and should be used instead. To use it run `pip install -U :class:`~langchain-huggingface` and import as `from :class:`~langchain_huggingface import HuggingFaceEmbeddings``.\n",
      "  embeddings = HuggingFaceEmbeddings(model_name=\"sentence-transformers/all-MiniLM-L6-v2\")\n",
      "/home/abdoul/rag_lawyer/.venv/lib/python3.12/site-packages/tqdm/auto.py:21: TqdmWarning: IProgress not found. Please update jupyter and ipywidgets. See https://ipywidgets.readthedocs.io/en/stable/user_install.html\n",
      "  from .autonotebook import tqdm as notebook_tqdm\n",
      "/tmp/ipykernel_40491/116804841.py:24: LangChainDeprecationWarning: The class `Ollama` was deprecated in LangChain 0.3.1 and will be removed in 1.0.0. An updated version of the class exists in the :class:`~langchain-ollama package and should be used instead. To use it run `pip install -U :class:`~langchain-ollama` and import as `from :class:`~langchain_ollama import OllamaLLM``.\n",
      "  llm_ollama = Ollama(model=\"mistral\")\n"
     ]
    },
    {
     "data": {
      "text/plain": [
       "RetrievalQA(verbose=False, combine_documents_chain=StuffDocumentsChain(verbose=False, llm_chain=LLMChain(verbose=False, prompt=PromptTemplate(input_variables=['context', 'question'], input_types={}, partial_variables={}, template=\"Use the following pieces of context to answer the question at the end. If you don't know the answer, just say that you don't know, don't try to make up an answer.\\n\\n{context}\\n\\nQuestion: {question}\\nHelpful Answer:\"), llm=Ollama(model='mistral'), output_parser=StrOutputParser(), llm_kwargs={}), document_prompt=PromptTemplate(input_variables=['page_content'], input_types={}, partial_variables={}, template='{page_content}'), document_variable_name='context'), retriever=VectorStoreRetriever(tags=['FAISS', 'HuggingFaceEmbeddings'], vectorstore=<langchain_community.vectorstores.faiss.FAISS object at 0x7fbfddb158b0>, search_kwargs={}))"
      ]
     },
     "execution_count": 5,
     "metadata": {},
     "output_type": "execute_result"
    }
   ],
   "source": [
    "build_qa_chain()"
   ]
  },
  {
   "cell_type": "code",
   "execution_count": null,
   "id": "8106cc5b",
   "metadata": {},
   "outputs": [],
   "source": [
    "# Récupération des infos pour la connexion à la bdd\n",
    "mongo_uri = os.getenv(\"MONGO_URI\")\n",
    "db_name = os.getenv(\"DB_NAME\")\n",
    "collection_name = os.getenv(\"COLLECTION_NAME\")\n",
    "text_field = os.getenv(\"TEXT_FIELD\", \"texte\")\n",
    "\n",
    "# Connexion à MongoDB\n",
    "client = MongoClient(mongo_uri)\n",
    "collection = client[db_name][collection_name]\n",
    "texts = [doc[text_field] for doc in collection.find({}, {text_field: 1}) if text_field in doc]    "
   ]
  },
  {
   "cell_type": "code",
   "execution_count": 19,
   "id": "e2dfa990",
   "metadata": {},
   "outputs": [],
   "source": [
    "# Séparation des textes\n",
    "splitter = RecursiveCharacterTextSplitter(chunk_size=500, chunk_overlap=50)\n",
    "\n",
    "# Forcer l'encodage en UTF8\n",
    "def nettoyer_utf8(texte):\n",
    "    return texte.encode(\"utf-8\", errors=\"ignore\").decode(\"utf-8\")\n",
    "\n",
    "docs = [\n",
    "    Document(page_content=nettoyer_utf8(chunk))\n",
    "    for text in texts\n",
    "    for chunk in splitter.split_text(text)\n",
    "]"
   ]
  },
  {
   "cell_type": "code",
   "execution_count": 24,
   "id": "1443bc67",
   "metadata": {},
   "outputs": [
    {
     "data": {
      "text/plain": [
       "[Document(metadata={}, page_content=\"La protection des personnes physiques à l'égard du traitement des données à caractère personnel est un droit fondamental. L'article 8, paragraphe 1, de la Charte des droits fondamentaux de l'Union européenne (ci-après dénommée «Charte») et l'article 16, paragraphe 1, du traité sur le fonctionnement de l'Union européenne disposent que toute personne a droit à la protection des données à caractère personnel la concernant.Les principes et les règles régissant la protection des personnes physiques à\"),\n",
       " Document(metadata={}, page_content=\"régissant la protection des personnes physiques à l'égard du traitement des données à caractère personnel les concernant devraient, quelle que soit la nationalité ou la résidence de ces personnes physiques, respecter leurs libertés et droits fondamentaux, en particulier leur droit à la protection des données à caractère personnel. Le présent règlement vise à contribuer à la réalisation d'un espace de liberté, de sécurité et de justice et d'une union économique, au progrès économique et social,\"),\n",
       " Document(metadata={}, page_content=\"économique, au progrès économique et social, à la consolidation et à la convergence des économies au sein du marché intérieur, ainsi qu'au bien-être des personnes physiques.La directive 95/46/CE du Parlement européen et du Conseil vise à harmoniser la protection des libertés et droits fondamentaux des personnes physiques en ce qui concerne les activités de traitement et à assurer le libre flux des données à caractère personnel entre les États membres.Le traitement des données à caractère\"),\n",
       " Document(metadata={}, page_content=\"membres.Le traitement des données à caractère personnel devrait être conçu pour servir l'humanité. Le droit à la protection des données à caractère personnel n'est pas un droit absolu; il doit être considéré par rapport à sa fonction dans la société et être mis en balance avec d'autres droits fondamentaux, conformément au principe de proportionnalité. Le présent règlement respecte tous les droits fondamentaux et observe les libertés et les principes reconnus par la Charte, consacrés par les\"),\n",
       " Document(metadata={}, page_content=\"reconnus par la Charte, consacrés par les traités, en particulier le respect de la vie privée et familiale, du domicile et des communications, la protection des données à caractère personnel, la liberté de pensée, de conscience et de religion, la liberté d'expression et d'information, la liberté d'entreprise, le droit à un recours effectif et à accéder à un tribunal impartial, et la diversité culturelle, religieuse et linguistique.L'intégration économique et sociale résultant du fonctionnement\"),\n",
       " Document(metadata={}, page_content=\"économique et sociale résultant du fonctionnement du marché intérieur a conduit à une augmentation substantielle des flux transfrontaliers de données à caractère personnel. Les échanges de données à caractère personnel entre acteurs publics et privés, y compris les personnes physiques, les associations et les entreprises, se sont intensifiés dans l'ensemble de l'Union. Le droit de l'Union appelle les autorités nationales des États membres à coopérer et à échanger des données à caractère\"),\n",
       " Document(metadata={}, page_content=\"à coopérer et à échanger des données à caractère personnel, afin d'être en mesure de remplir leurs missions ou d'accomplir des tâches pour le compte d'une autorité d'un autre État membre.L'évolution rapide des technologies et la mondialisation ont créé de nouveaux enjeux pour la protection des données à caractère personnel. L'ampleur de la collecte et du partage de données à caractère personnel a augmenté de manière importante. Les technologies permettent tant aux entreprises privées qu'aux\"),\n",
       " Document(metadata={}, page_content=\"permettent tant aux entreprises privées qu'aux autorités publiques d'utiliser les données à caractère personnel comme jamais auparavant dans le cadre de leurs activités. De plus en plus, les personnes physiques rendent des informations les concernant accessibles publiquement et à un niveau mondial. Les technologies ont transformé à la fois l'économie et les rapports sociaux, et elles devraient encore faciliter le libre flux des données à caractère personnel au sein de l'Union et leur transfert\"),\n",
       " Document(metadata={}, page_content=\"personnel au sein de l'Union et leur transfert vers des pays tiers et à des organisations internationales, tout en assurant un niveau élevé de protection des données à caractère personnel\")]"
      ]
     },
     "execution_count": 24,
     "metadata": {},
     "output_type": "execute_result"
    }
   ],
   "source": [
    "docs"
   ]
  },
  {
   "cell_type": "code",
   "execution_count": 35,
   "id": "01436d50",
   "metadata": {},
   "outputs": [],
   "source": [
    "doc = [Document(metadata={},page_content=\"test\")]"
   ]
  },
  {
   "cell_type": "code",
   "execution_count": 45,
   "id": "f5ac987d",
   "metadata": {},
   "outputs": [],
   "source": [
    "# Vectorisation des textes\n",
    "embeddings = HuggingFaceEmbeddings(model_name=\"sentence-transformers/all-MiniLM-L6-v2\")\n",
    "vectorstore = FAISS.from_documents(doc, embeddings)"
   ]
  },
  {
   "cell_type": "code",
   "execution_count": 49,
   "id": "38c8a6ad",
   "metadata": {},
   "outputs": [
    {
     "name": "stdout",
     "output_type": "stream",
     "text": [
      "{'65a921fd-67ec-408a-a0f7-e30ba8cef536': Document(id='65a921fd-67ec-408a-a0f7-e30ba8cef536', metadata={}, page_content='test')}\n"
     ]
    }
   ],
   "source": [
    "# Affiche les documents stockés dans FAISS\n",
    "print(vectorstore.docstore._dict)  # ou list(vectorstore.docstore._dict.values())"
   ]
  },
  {
   "cell_type": "code",
   "execution_count": 47,
   "id": "f4e333b0",
   "metadata": {},
   "outputs": [
    {
     "name": "stderr",
     "output_type": "stream",
     "text": [
      "/tmp/ipykernel_27561/2374047528.py:3: LangChainDeprecationWarning: The class `Ollama` was deprecated in LangChain 0.3.1 and will be removed in 1.0.0. An updated version of the class exists in the :class:`~langchain-ollama package and should be used instead. To use it run `pip install -U :class:`~langchain-ollama` and import as `from :class:`~langchain_ollama import OllamaLLM``.\n",
      "  llm_ollama = Ollama(model=\"mistral\")\n"
     ]
    }
   ],
   "source": [
    "retriever = vectorstore.as_retriever()\n",
    "# llm = ChatOpenAI(temperature=0)\n",
    "llm_ollama = Ollama(model=\"mistral\")"
   ]
  },
  {
   "cell_type": "code",
   "execution_count": null,
   "id": "725c6c60",
   "metadata": {},
   "outputs": [],
   "source": []
  }
 ],
 "metadata": {
  "kernelspec": {
   "display_name": ".venv",
   "language": "python",
   "name": "python3"
  },
  "language_info": {
   "codemirror_mode": {
    "name": "ipython",
    "version": 3
   },
   "file_extension": ".py",
   "mimetype": "text/x-python",
   "name": "python",
   "nbconvert_exporter": "python",
   "pygments_lexer": "ipython3",
   "version": "3.12.2"
  }
 },
 "nbformat": 4,
 "nbformat_minor": 5
}
